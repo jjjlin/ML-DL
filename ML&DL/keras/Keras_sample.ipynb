{
 "cells": [
  {
   "cell_type": "code",
   "execution_count": 1,
   "metadata": {},
   "outputs": [
    {
     "name": "stderr",
     "output_type": "stream",
     "text": [
      "Using TensorFlow backend.\n"
     ]
    }
   ],
   "source": [
    "from keras.models import Sequential\n",
    "from keras.layers import Dense\n",
    "import numpy"
   ]
  },
  {
   "cell_type": "code",
   "execution_count": 2,
   "metadata": {
    "collapsed": true
   },
   "outputs": [],
   "source": [
    "seed = 9\n",
    "numpy.random.seed(seed)"
   ]
  },
  {
   "cell_type": "code",
   "execution_count": 3,
   "metadata": {
    "collapsed": true
   },
   "outputs": [],
   "source": [
    "from pandas import read_csv\n",
    "filename = 'BBCN.csv'\n",
    "dataframe = read_csv(filename)"
   ]
  },
  {
   "cell_type": "code",
   "execution_count": 4,
   "metadata": {
    "collapsed": true
   },
   "outputs": [],
   "source": [
    "array = dataframe.values"
   ]
  },
  {
   "cell_type": "code",
   "execution_count": 5,
   "metadata": {
    "collapsed": true
   },
   "outputs": [],
   "source": [
    "x = array[:,0 : 11]\n",
    "y = array[:, 11]"
   ]
  },
  {
   "cell_type": "code",
   "execution_count": 6,
   "metadata": {},
   "outputs": [
    {
     "data": {
      "text/html": [
       "<div>\n",
       "<style>\n",
       "    .dataframe thead tr:only-child th {\n",
       "        text-align: right;\n",
       "    }\n",
       "\n",
       "    .dataframe thead th {\n",
       "        text-align: left;\n",
       "    }\n",
       "\n",
       "    .dataframe tbody tr th {\n",
       "        vertical-align: top;\n",
       "    }\n",
       "</style>\n",
       "<table border=\"1\" class=\"dataframe\">\n",
       "  <thead>\n",
       "    <tr style=\"text-align: right;\">\n",
       "      <th></th>\n",
       "      <th>MaritalStatus</th>\n",
       "      <th>Gender</th>\n",
       "      <th>YearlyIncome</th>\n",
       "      <th>TotalChildren</th>\n",
       "      <th>NumberChildrenAtHome</th>\n",
       "      <th>EnglishEducation</th>\n",
       "      <th>HouseOwnerFlag</th>\n",
       "      <th>NumberCarsOwned</th>\n",
       "      <th>CommuteDistance</th>\n",
       "      <th>Region</th>\n",
       "      <th>Age</th>\n",
       "      <th>BikeBuyer</th>\n",
       "    </tr>\n",
       "  </thead>\n",
       "  <tbody>\n",
       "    <tr>\n",
       "      <th>0</th>\n",
       "      <td>5</td>\n",
       "      <td>1</td>\n",
       "      <td>9.0</td>\n",
       "      <td>2</td>\n",
       "      <td>0</td>\n",
       "      <td>5</td>\n",
       "      <td>1</td>\n",
       "      <td>0</td>\n",
       "      <td>2</td>\n",
       "      <td>2</td>\n",
       "      <td>5</td>\n",
       "      <td>1</td>\n",
       "    </tr>\n",
       "    <tr>\n",
       "      <th>1</th>\n",
       "      <td>5</td>\n",
       "      <td>1</td>\n",
       "      <td>6.0</td>\n",
       "      <td>3</td>\n",
       "      <td>3</td>\n",
       "      <td>5</td>\n",
       "      <td>0</td>\n",
       "      <td>1</td>\n",
       "      <td>1</td>\n",
       "      <td>2</td>\n",
       "      <td>4</td>\n",
       "      <td>1</td>\n",
       "    </tr>\n",
       "    <tr>\n",
       "      <th>2</th>\n",
       "      <td>5</td>\n",
       "      <td>1</td>\n",
       "      <td>6.0</td>\n",
       "      <td>3</td>\n",
       "      <td>3</td>\n",
       "      <td>5</td>\n",
       "      <td>1</td>\n",
       "      <td>1</td>\n",
       "      <td>5</td>\n",
       "      <td>2</td>\n",
       "      <td>4</td>\n",
       "      <td>1</td>\n",
       "    </tr>\n",
       "    <tr>\n",
       "      <th>3</th>\n",
       "      <td>5</td>\n",
       "      <td>2</td>\n",
       "      <td>7.0</td>\n",
       "      <td>0</td>\n",
       "      <td>0</td>\n",
       "      <td>5</td>\n",
       "      <td>0</td>\n",
       "      <td>1</td>\n",
       "      <td>10</td>\n",
       "      <td>2</td>\n",
       "      <td>5</td>\n",
       "      <td>1</td>\n",
       "    </tr>\n",
       "    <tr>\n",
       "      <th>4</th>\n",
       "      <td>5</td>\n",
       "      <td>2</td>\n",
       "      <td>8.0</td>\n",
       "      <td>5</td>\n",
       "      <td>5</td>\n",
       "      <td>5</td>\n",
       "      <td>1</td>\n",
       "      <td>4</td>\n",
       "      <td>2</td>\n",
       "      <td>2</td>\n",
       "      <td>5</td>\n",
       "      <td>1</td>\n",
       "    </tr>\n",
       "  </tbody>\n",
       "</table>\n",
       "</div>"
      ],
      "text/plain": [
       "   MaritalStatus  Gender  YearlyIncome  TotalChildren  NumberChildrenAtHome  \\\n",
       "0              5       1           9.0              2                     0   \n",
       "1              5       1           6.0              3                     3   \n",
       "2              5       1           6.0              3                     3   \n",
       "3              5       2           7.0              0                     0   \n",
       "4              5       2           8.0              5                     5   \n",
       "\n",
       "   EnglishEducation  HouseOwnerFlag  NumberCarsOwned  CommuteDistance  Region  \\\n",
       "0                 5               1                0                2       2   \n",
       "1                 5               0                1                1       2   \n",
       "2                 5               1                1                5       2   \n",
       "3                 5               0                1               10       2   \n",
       "4                 5               1                4                2       2   \n",
       "\n",
       "   Age  BikeBuyer  \n",
       "0    5          1  \n",
       "1    4          1  \n",
       "2    4          1  \n",
       "3    5          1  \n",
       "4    5          1  "
      ]
     },
     "execution_count": 6,
     "metadata": {},
     "output_type": "execute_result"
    }
   ],
   "source": [
    "dataframe.head()"
   ]
  },
  {
   "cell_type": "code",
   "execution_count": 7,
   "metadata": {},
   "outputs": [],
   "source": [
    "model = Sequential()\n",
    "model.add(Dense(1200, input_dim=11, kernel_initializer = 'uniform', activation = 'sigmoid'))\n",
    "model.add(Dense(200, kernel_initializer = 'uniform', activation = 'relu'))\n",
    "model.add(Dense(100, kernel_initializer = 'uniform', activation = 'relu'))\n",
    "model.add(Dense(10, kernel_initializer = 'uniform', activation = 'relu'))\n",
    "model.add(Dense(1, kernel_initializer = 'uniform', activation = 'sigmoid'))          "
   ]
  },
  {
   "cell_type": "code",
   "execution_count": 8,
   "metadata": {
    "collapsed": true
   },
   "outputs": [],
   "source": [
    "model.compile(loss='binary_crossentropy', optimizer ='adam', metrics = ['accuracy'])"
   ]
  },
  {
   "cell_type": "code",
   "execution_count": 9,
   "metadata": {},
   "outputs": [
    {
     "name": "stdout",
     "output_type": "stream",
     "text": [
      "Epoch 1/50\n",
      "500/500 [==============================] - 0s - loss: 0.6931 - acc: 0.5300     \n",
      "Epoch 2/50\n",
      "500/500 [==============================] - 0s - loss: 0.6921 - acc: 0.5340     \n",
      "Epoch 3/50\n",
      "500/500 [==============================] - 0s - loss: 0.6918 - acc: 0.5340     \n",
      "Epoch 4/50\n",
      "500/500 [==============================] - 0s - loss: 0.6918 - acc: 0.5340     \n",
      "Epoch 5/50\n",
      "500/500 [==============================] - 0s - loss: 0.6897 - acc: 0.5340     \n",
      "Epoch 6/50\n",
      "500/500 [==============================] - 0s - loss: 0.6893 - acc: 0.5340     \n",
      "Epoch 7/50\n",
      "500/500 [==============================] - 0s - loss: 0.6886 - acc: 0.5340     \n",
      "Epoch 8/50\n",
      "500/500 [==============================] - 0s - loss: 0.6881 - acc: 0.5340     \n",
      "Epoch 9/50\n",
      "500/500 [==============================] - 0s - loss: 0.6888 - acc: 0.5340     \n",
      "Epoch 10/50\n",
      "500/500 [==============================] - 0s - loss: 0.6864 - acc: 0.5340     \n",
      "Epoch 11/50\n",
      "500/500 [==============================] - 0s - loss: 0.6836 - acc: 0.5340     \n",
      "Epoch 12/50\n",
      "500/500 [==============================] - 0s - loss: 0.6832 - acc: 0.5380     \n",
      "Epoch 13/50\n",
      "500/500 [==============================] - 0s - loss: 0.6755 - acc: 0.5560     \n",
      "Epoch 14/50\n",
      "500/500 [==============================] - 0s - loss: 0.6682 - acc: 0.5860     \n",
      "Epoch 15/50\n",
      "500/500 [==============================] - 0s - loss: 0.6689 - acc: 0.5960     \n",
      "Epoch 16/50\n",
      "500/500 [==============================] - 0s - loss: 0.6673 - acc: 0.5880     \n",
      "Epoch 17/50\n",
      "500/500 [==============================] - 0s - loss: 0.6590 - acc: 0.6020     \n",
      "Epoch 18/50\n",
      "500/500 [==============================] - 0s - loss: 0.6527 - acc: 0.6020     \n",
      "Epoch 19/50\n",
      "500/500 [==============================] - 0s - loss: 0.6545 - acc: 0.5900     \n",
      "Epoch 20/50\n",
      "500/500 [==============================] - 0s - loss: 0.6521 - acc: 0.5820     \n",
      "Epoch 21/50\n",
      "500/500 [==============================] - 0s - loss: 0.6486 - acc: 0.5980     \n",
      "Epoch 22/50\n",
      "500/500 [==============================] - 0s - loss: 0.6535 - acc: 0.6020     \n",
      "Epoch 23/50\n",
      "500/500 [==============================] - 0s - loss: 0.6454 - acc: 0.5920     \n",
      "Epoch 24/50\n",
      "500/500 [==============================] - 0s - loss: 0.6391 - acc: 0.6060     \n",
      "Epoch 25/50\n",
      "500/500 [==============================] - 0s - loss: 0.6409 - acc: 0.5860     \n",
      "Epoch 26/50\n",
      "500/500 [==============================] - 0s - loss: 0.6379 - acc: 0.5980     \n",
      "Epoch 27/50\n",
      "500/500 [==============================] - 0s - loss: 0.6349 - acc: 0.5940     \n",
      "Epoch 28/50\n",
      "500/500 [==============================] - 0s - loss: 0.6350 - acc: 0.6000     \n",
      "Epoch 29/50\n",
      "500/500 [==============================] - 0s - loss: 0.6288 - acc: 0.6080     \n",
      "Epoch 30/50\n",
      "500/500 [==============================] - 0s - loss: 0.6316 - acc: 0.5980     \n",
      "Epoch 31/50\n",
      "500/500 [==============================] - 0s - loss: 0.6337 - acc: 0.6100     \n",
      "Epoch 32/50\n",
      "500/500 [==============================] - 0s - loss: 0.6264 - acc: 0.6040     \n",
      "Epoch 33/50\n",
      "500/500 [==============================] - 0s - loss: 0.6264 - acc: 0.6080     \n",
      "Epoch 34/50\n",
      "500/500 [==============================] - 0s - loss: 0.6219 - acc: 0.6100     \n",
      "Epoch 35/50\n",
      "500/500 [==============================] - 0s - loss: 0.6239 - acc: 0.6140     \n",
      "Epoch 36/50\n",
      "500/500 [==============================] - 0s - loss: 0.6167 - acc: 0.6100     \n",
      "Epoch 37/50\n",
      "500/500 [==============================] - 0s - loss: 0.6120 - acc: 0.6120     \n",
      "Epoch 38/50\n",
      "500/500 [==============================] - ETA: 0s - loss: 0.6052 - acc: 0.628 - 0s - loss: 0.6131 - acc: 0.6200     \n",
      "Epoch 39/50\n",
      "500/500 [==============================] - 0s - loss: 0.6078 - acc: 0.6160     \n",
      "Epoch 40/50\n",
      "500/500 [==============================] - 0s - loss: 0.6236 - acc: 0.6100     \n",
      "Epoch 41/50\n",
      "500/500 [==============================] - 0s - loss: 0.6192 - acc: 0.6380     \n",
      "Epoch 42/50\n",
      "500/500 [==============================] - 0s - loss: 0.6142 - acc: 0.6340     \n",
      "Epoch 43/50\n",
      "500/500 [==============================] - 0s - loss: 0.6087 - acc: 0.6420     \n",
      "Epoch 44/50\n",
      "500/500 [==============================] - 0s - loss: 0.6042 - acc: 0.6460     \n",
      "Epoch 45/50\n",
      "500/500 [==============================] - 0s - loss: 0.5974 - acc: 0.6480     \n",
      "Epoch 46/50\n",
      "500/500 [==============================] - 0s - loss: 0.5945 - acc: 0.6480     \n",
      "Epoch 47/50\n",
      "500/500 [==============================] - ETA: 0s - loss: 0.5983 - acc: 0.651 - 0s - loss: 0.5939 - acc: 0.6500     \n",
      "Epoch 48/50\n",
      "500/500 [==============================] - 0s - loss: 0.5975 - acc: 0.6460     \n",
      "Epoch 49/50\n",
      "500/500 [==============================] - 0s - loss: 0.5971 - acc: 0.6440     \n",
      "Epoch 50/50\n",
      "500/500 [==============================] - 0s - loss: 0.5978 - acc: 0.6400     \n"
     ]
    },
    {
     "data": {
      "text/plain": [
       "<keras.callbacks.History at 0x1220765c0>"
      ]
     },
     "execution_count": 9,
     "metadata": {},
     "output_type": "execute_result"
    }
   ],
   "source": [
    "model.fit(x, y,epochs = 50, batch_size = 10 )"
   ]
  },
  {
   "cell_type": "code",
   "execution_count": 10,
   "metadata": {},
   "outputs": [
    {
     "name": "stdout",
     "output_type": "stream",
     "text": [
      " 32/500 [>.............................] - ETA: 0sacc, 65.80%\n"
     ]
    }
   ],
   "source": [
    "scores = model.evaluate(x,y)\n",
    "print(\"%s, %.2f%%\" % (model.metrics_names[1], scores[1]*100))"
   ]
  },
  {
   "cell_type": "code",
   "execution_count": null,
   "metadata": {
    "collapsed": true
   },
   "outputs": [],
   "source": []
  }
 ],
 "metadata": {
  "kernelspec": {
   "display_name": "Python 3",
   "language": "python",
   "name": "python3"
  },
  "language_info": {
   "codemirror_mode": {
    "name": "ipython",
    "version": 3
   },
   "file_extension": ".py",
   "mimetype": "text/x-python",
   "name": "python",
   "nbconvert_exporter": "python",
   "pygments_lexer": "ipython3",
   "version": "3.5.3"
  }
 },
 "nbformat": 4,
 "nbformat_minor": 2
}
